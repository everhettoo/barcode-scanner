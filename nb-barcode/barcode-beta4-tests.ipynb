{
 "cells": [
  {
   "cell_type": "code",
   "id": "initial_id",
   "metadata": {
    "collapsed": true,
    "ExecuteTime": {
     "end_time": "2025-06-01T15:20:05.287302Z",
     "start_time": "2025-06-01T15:20:05.278342Z"
    }
   },
   "source": [
    "from importlib import reload\n",
    "# from imp import reload\n",
    "import matplotlib.pyplot as plt\n",
    "import numpy as np\n",
    "\n",
    "from ipcv import cvlib, scanner\n",
    "from config import parameters\n",
    "\n",
    "reload(cvlib)\n",
    "reload(scanner)\n",
    "reload(parameters)"
   ],
   "outputs": [
    {
     "data": {
      "text/plain": [
       "<module 'config.parameters' from '/Users/everhett/Projects/python-ws/qr-scanner/config/parameters.py'>"
      ]
     },
     "execution_count": 4,
     "metadata": {},
     "output_type": "execute_result"
    }
   ],
   "execution_count": 4
  },
  {
   "metadata": {
    "ExecuteTime": {
     "end_time": "2025-06-01T15:20:05.304345Z",
     "start_time": "2025-06-01T15:20:05.301256Z"
    }
   },
   "cell_type": "code",
   "source": [
    "# A function to display side-by-side visuals for comparisons.\n",
    "def display(source_img, processed_img, cropped_img, ):\n",
    "    # Display the previous and current side-by-side for visual comparison.\n",
    "    plt.figure(figsize=(14, 12))\n",
    "    plt.subplot(1, 3, 1)\n",
    "    plt.imshow(source_img, cmap='gray')\n",
    "    plt.title('Source Image')\n",
    "\n",
    "    plt.subplot(1, 3, 2)\n",
    "    plt.imshow(processed_img, cmap='gray')\n",
    "    plt.title('Processed Image')\n",
    "\n",
    "    if cropped_img is not None:\n",
    "        plt.subplot(1, 3, 3)\n",
    "        plt.imshow(cropped_img, cmap='gray')\n",
    "        plt.title('Cropped Image')"
   ],
   "id": "b737c1101ee88ac",
   "outputs": [],
   "execution_count": 5
  },
  {
   "metadata": {
    "ExecuteTime": {
     "end_time": "2025-06-01T15:20:05.504601Z",
     "start_time": "2025-06-01T15:20:05.319659Z"
    }
   },
   "cell_type": "code",
   "source": [
    "reload(cvlib)\n",
    "reload(scanner)\n",
    "reload(parameters)\n",
    "image = cvlib.load_image('../resources/barcode/barcode101.png')\n",
    "cropped, processed = scanner.detect_barcode_v2(image, **parameters.barcode_wide_and_high1)\n",
    "display(image, processed, cropped)\n",
    "if cropped is not None:\n",
    "    print(f'Decoded barcode : {scanner.decode_barcode(cropped)}')"
   ],
   "id": "174a27422a3c27a8",
   "outputs": [
    {
     "name": "stdout",
     "output_type": "stream",
     "text": [
      "Info                : size=1,724,100, RxC=[1,050x1,642], box-ratio-on: False, attempt-limit: 3\n",
      "----------> [BEGIN, attempt=1]\n",
      "[1] --Binarize      : at min-thresh=80, [black=87.76%, white=12.24%]\n",
      "[1] --Pixel-check   : [black=87.76%, white=12.24%] within 97% limit.\n",
      "[1] --Morphing      : dilation:erosion=[10:5]\n"
     ]
    },
    {
     "ename": "TypeError",
     "evalue": "find_rectangle() got an unexpected keyword argument 'source_img'",
     "output_type": "error",
     "traceback": [
      "\u001B[0;31m---------------------------------------------------------------------------\u001B[0m",
      "\u001B[0;31mTypeError\u001B[0m                                 Traceback (most recent call last)",
      "Cell \u001B[0;32mIn[6], line 5\u001B[0m\n\u001B[1;32m      3\u001B[0m reload(parameters)\n\u001B[1;32m      4\u001B[0m image \u001B[38;5;241m=\u001B[39m cvlib\u001B[38;5;241m.\u001B[39mload_image(\u001B[38;5;124m'\u001B[39m\u001B[38;5;124mresources/barcode/barcode101.png\u001B[39m\u001B[38;5;124m'\u001B[39m)\n\u001B[0;32m----> 5\u001B[0m cropped, processed \u001B[38;5;241m=\u001B[39m \u001B[43mscanner\u001B[49m\u001B[38;5;241;43m.\u001B[39;49m\u001B[43mdetect_barcode_v2\u001B[49m\u001B[43m(\u001B[49m\u001B[43mimage\u001B[49m\u001B[43m,\u001B[49m\u001B[43m \u001B[49m\u001B[38;5;241;43m*\u001B[39;49m\u001B[38;5;241;43m*\u001B[39;49m\u001B[43mparameters\u001B[49m\u001B[38;5;241;43m.\u001B[39;49m\u001B[43mbarcode_wide_and_high1\u001B[49m\u001B[43m)\u001B[49m\n\u001B[1;32m      6\u001B[0m display(image, processed, cropped)\n\u001B[1;32m      7\u001B[0m \u001B[38;5;28;01mif\u001B[39;00m cropped \u001B[38;5;129;01mis\u001B[39;00m \u001B[38;5;129;01mnot\u001B[39;00m \u001B[38;5;28;01mNone\u001B[39;00m:\n",
      "File \u001B[0;32m~/Projects/python-ws/qr-scanner/ipcv/scanner.py:405\u001B[0m, in \u001B[0;36mdetect_barcode_v2\u001B[0;34m(image, **kwargs)\u001B[0m\n\u001B[1;32m    400\u001B[0m \u001B[38;5;28mprint\u001B[39m(\u001B[38;5;124mf\u001B[39m\u001B[38;5;124m'\u001B[39m\u001B[38;5;124m[\u001B[39m\u001B[38;5;132;01m{\u001B[39;00mi\u001B[38;5;132;01m}\u001B[39;00m\u001B[38;5;124m] --Morphing      : dilation:erosion=[\u001B[39m\u001B[38;5;132;01m{\u001B[39;00mkwargs[\u001B[38;5;124m\"\u001B[39m\u001B[38;5;124mdilate_iteration\u001B[39m\u001B[38;5;124m\"\u001B[39m]\u001B[38;5;132;01m}\u001B[39;00m\u001B[38;5;124m:\u001B[39m\u001B[38;5;132;01m{\u001B[39;00mkwargs[\u001B[38;5;124m\"\u001B[39m\u001B[38;5;124merode_iteration\u001B[39m\u001B[38;5;124m\"\u001B[39m]\u001B[38;5;132;01m}\u001B[39;00m\u001B[38;5;124m]\u001B[39m\u001B[38;5;124m'\u001B[39m)\n\u001B[1;32m    402\u001B[0m p \u001B[38;5;241m=\u001B[39m proportionate_close(p, kwargs[\u001B[38;5;124m\"\u001B[39m\u001B[38;5;124mdilate_iteration\u001B[39m\u001B[38;5;124m\"\u001B[39m], kwargs[\u001B[38;5;124m\"\u001B[39m\u001B[38;5;124merode_iteration\u001B[39m\u001B[38;5;124m\"\u001B[39m],\n\u001B[1;32m    403\u001B[0m                         kwargs[\u001B[38;5;124m'\u001B[39m\u001B[38;5;124mdilate_size\u001B[39m\u001B[38;5;124m'\u001B[39m], kwargs[\u001B[38;5;124m'\u001B[39m\u001B[38;5;124merode_size\u001B[39m\u001B[38;5;124m'\u001B[39m])\n\u001B[0;32m--> 405\u001B[0m contour \u001B[38;5;241m=\u001B[39m \u001B[43mfind_rectangle\u001B[49m\u001B[43m(\u001B[49m\u001B[43msource_img\u001B[49m\u001B[38;5;241;43m=\u001B[39;49m\u001B[43mimage\u001B[49m\u001B[43m,\u001B[49m\n\u001B[1;32m    406\u001B[0m \u001B[43m                         \u001B[49m\u001B[43mprocessed_img\u001B[49m\u001B[38;5;241;43m=\u001B[39;49m\u001B[43mp\u001B[49m\u001B[43m,\u001B[49m\n\u001B[1;32m    407\u001B[0m \u001B[43m                         \u001B[49m\u001B[43mmin_area_factor\u001B[49m\u001B[38;5;241;43m=\u001B[39;49m\u001B[43mkwargs\u001B[49m\u001B[43m[\u001B[49m\u001B[38;5;124;43m'\u001B[39;49m\u001B[38;5;124;43mmin_area_factor\u001B[39;49m\u001B[38;5;124;43m'\u001B[39;49m\u001B[43m]\u001B[49m\u001B[43m,\u001B[49m\n\u001B[1;32m    408\u001B[0m \u001B[43m                         \u001B[49m\u001B[43mcnt\u001B[49m\u001B[38;5;241;43m=\u001B[39;49m\u001B[43mcnt\u001B[49m\u001B[43m,\u001B[49m\n\u001B[1;32m    409\u001B[0m \u001B[43m                         \u001B[49m\u001B[43mbox\u001B[49m\u001B[38;5;241;43m=\u001B[39;49m\u001B[43mkwargs\u001B[49m\u001B[43m[\u001B[49m\u001B[38;5;124;43m'\u001B[39;49m\u001B[38;5;124;43mbox\u001B[39;49m\u001B[38;5;124;43m'\u001B[39;49m\u001B[43m]\u001B[49m\u001B[43m,\u001B[49m\n\u001B[1;32m    410\u001B[0m \u001B[43m                         \u001B[49m\u001B[43mdraw\u001B[49m\u001B[38;5;241;43m=\u001B[39;49m\u001B[38;5;28;43;01mFalse\u001B[39;49;00m\u001B[43m,\u001B[49m\n\u001B[1;32m    411\u001B[0m \u001B[43m                         \u001B[49m\u001B[43mverbose\u001B[49m\u001B[38;5;241;43m=\u001B[39;49m\u001B[38;5;28;43;01mFalse\u001B[39;49;00m\u001B[43m)\u001B[49m\n\u001B[1;32m    412\u001B[0m \u001B[38;5;28;01mif\u001B[39;00m contour \u001B[38;5;129;01mis\u001B[39;00m \u001B[38;5;129;01mnot\u001B[39;00m \u001B[38;5;28;01mNone\u001B[39;00m:\n\u001B[1;32m    413\u001B[0m     cropped \u001B[38;5;241m=\u001B[39m crop_roi(image, contour, GREEN)\n",
      "\u001B[0;31mTypeError\u001B[0m: find_rectangle() got an unexpected keyword argument 'source_img'"
     ]
    }
   ],
   "execution_count": 6
  },
  {
   "metadata": {},
   "cell_type": "code",
   "source": [
    "reload(cvlib)\n",
    "reload(scanner)\n",
    "reload(parameters)\n",
    "image = cvlib.load_image('../resources/barcode/barcode102.png')\n",
    "cropped, processed = scanner.detect_barcode_v2(image, **parameters.barcode_wide_and_high1)\n",
    "display(image, processed, cropped)\n",
    "if cropped is not None:\n",
    "    print(f'Decoded barcode : {scanner.decode_barcode(cropped)}')"
   ],
   "id": "9741fa7efde4a749",
   "outputs": [],
   "execution_count": null
  },
  {
   "metadata": {},
   "cell_type": "code",
   "source": [
    "reload(cvlib)\n",
    "reload(scanner)\n",
    "reload(parameters)\n",
    "image = cvlib.load_image('../resources/barcode/barcode111.png')\n",
    "cropped, processed = scanner.detect_barcode_v2(image, **parameters.barcode_wide_and_high2)\n",
    "image = cvlib.adjust_gamma(cvlib.convert_rgb2gray(image),0.9)\n",
    "display(image, processed, cropped)\n",
    "if cropped is not None:\n",
    "    print(f'Decoded barcode : {scanner.decode_barcode(cropped)}')"
   ],
   "id": "d1659bae70efe03e",
   "outputs": [],
   "execution_count": null
  },
  {
   "metadata": {},
   "cell_type": "code",
   "source": [
    "reload(cvlib)\n",
    "reload(scanner)\n",
    "reload(parameters)\n",
    "image = cvlib.load_image('../resources/barcode/barcode112.png')\n",
    "cropped, processed = scanner.detect_barcode_v2(image, **parameters.barcode_wide_and_high2)\n",
    "display(image, processed, cropped)\n",
    "if cropped is not None:\n",
    "    print(f'Decoded barcode : {scanner.decode_barcode(cropped)}')"
   ],
   "id": "3f52aedc87d0c750",
   "outputs": [],
   "execution_count": null
  },
  {
   "metadata": {},
   "cell_type": "code",
   "source": [
    "reload(cvlib)\n",
    "reload(scanner)\n",
    "reload(parameters)\n",
    "image = cvlib.load_image('../resources/barcode/barcode113.png')\n",
    "cropped, processed = scanner.detect_barcode_v2(image, **parameters.barcode_wide_and_high2)\n",
    "display(image, processed, cropped)\n",
    "if cropped is not None:\n",
    "    print(f'Decoded barcode : {scanner.decode_barcode(cropped)}')"
   ],
   "id": "586018779d7f6240",
   "outputs": [],
   "execution_count": null
  },
  {
   "metadata": {},
   "cell_type": "code",
   "source": [
    "reload(cvlib)\n",
    "reload(scanner)\n",
    "reload(parameters)\n",
    "image = cvlib.load_image('../resources/barcode/barcode120.jpg')\n",
    "cropped, processed = scanner.detect_barcode_v2(image, **parameters.barcode_narrow_and_high1)\n",
    "display(image, processed, cropped)\n",
    "if cropped is not None:\n",
    "    print(f'Decoded barcode : {scanner.decode_barcode(cropped)}')"
   ],
   "id": "451034c67d56c6ee",
   "outputs": [],
   "execution_count": null
  },
  {
   "metadata": {},
   "cell_type": "code",
   "source": [
    "reload(scanner)\n",
    "reload(parameters)\n",
    "image = cvlib.load_image('../resources/barcode/barcode140.jpg')\n",
    "cropped, processed = scanner.detect_barcode_v2(image, **parameters.barcode_wide_and_high2)\n",
    "display(image, processed, cropped)\n",
    "if cropped is not None:\n",
    "    print(f'Decoded barcode : {scanner.decode_barcode(cropped)}')"
   ],
   "id": "ae704dcdc745f88b",
   "outputs": [],
   "execution_count": null
  },
  {
   "metadata": {},
   "cell_type": "code",
   "source": [
    "reload(scanner)\n",
    "reload(parameters)\n",
    "image = cvlib.load_image('../resources/barcode/barcode150.jpg')\n",
    "# cropped, processed = scanner.detect_barcode_v2(image, **parameters.barcode_ps_charles)\n",
    "cropped, processed = scanner.detect_barcode_v3(image, **parameters.barcode_general2)\n",
    "display(image, processed, cropped)\n",
    "if cropped is not None:\n",
    "    print(f'Decoded barcode : {scanner.decode_barcode(cropped)}')"
   ],
   "id": "e228e74475e8cec5",
   "outputs": [],
   "execution_count": null
  },
  {
   "metadata": {},
   "cell_type": "code",
   "source": [
    "reload(cvlib)\n",
    "reload(scanner)\n",
    "reload(parameters)\n",
    "image = cvlib.load_image('../resources/barcode/barcode160.jpg')\n",
    "cropped, processed = scanner.detect_barcode_v3(image, **parameters.barcode_general1)\n",
    "display(image, processed, cropped)\n",
    "if cropped is not None:\n",
    "    print(f'Decoded barcode : {scanner.decode_barcode(cropped)}')"
   ],
   "id": "58a9d60f3e8bbe1d",
   "outputs": [],
   "execution_count": null
  }
 ],
 "metadata": {
  "kernelspec": {
   "display_name": "Python 3",
   "language": "python",
   "name": "python3"
  },
  "language_info": {
   "codemirror_mode": {
    "name": "ipython",
    "version": 2
   },
   "file_extension": ".py",
   "mimetype": "text/x-python",
   "name": "python",
   "nbconvert_exporter": "python",
   "pygments_lexer": "ipython2",
   "version": "2.7.6"
  }
 },
 "nbformat": 4,
 "nbformat_minor": 5
}
