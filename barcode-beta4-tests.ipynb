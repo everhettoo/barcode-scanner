{
 "cells": [
  {
   "cell_type": "code",
   "id": "initial_id",
   "metadata": {
    "collapsed": true,
    "ExecuteTime": {
     "end_time": "2025-05-30T08:12:47.791306Z",
     "start_time": "2025-05-30T08:12:47.481043Z"
    }
   },
   "source": [
    "from importlib import reload\n",
    "# from imp import reload\n",
    "import matplotlib.pyplot as plt\n",
    "from ipcv import cvlib, scanner\n",
    "\n",
    "reload(cvlib)\n",
    "reload(scanner)"
   ],
   "outputs": [
    {
     "data": {
      "text/plain": [
       "<module 'ipcv.scanner' from '/Users/everhett/Projects/python-ws/qr-scanner/ipcv/scanner.py'>"
      ]
     },
     "execution_count": 1,
     "metadata": {},
     "output_type": "execute_result"
    }
   ],
   "execution_count": 1
  },
  {
   "metadata": {
    "ExecuteTime": {
     "end_time": "2025-05-30T08:12:50.351547Z",
     "start_time": "2025-05-30T08:12:50.348696Z"
    }
   },
   "cell_type": "code",
   "source": [
    "# A function to display side-by-side visuals for comparisons.\n",
    "def display(source_img, cropped_img):\n",
    "    # Display the previous and current side-by-side for visual comparison.\n",
    "    plt.figure(figsize=(14, 12))\n",
    "    plt.subplot(1, 2, 1)\n",
    "    plt.imshow(source_img, cmap='gray')\n",
    "    plt.title('Source Image')\n",
    "\n",
    "    plt.subplot(1, 2, 2)\n",
    "    plt.imshow(cropped_img, cmap='gray')\n",
    "    plt.title('Cropped Image')"
   ],
   "id": "b737c1101ee88ac",
   "outputs": [],
   "execution_count": 2
  },
  {
   "metadata": {
    "ExecuteTime": {
     "end_time": "2025-05-30T09:54:07.732425Z",
     "start_time": "2025-05-30T09:54:07.431955Z"
    }
   },
   "cell_type": "code",
   "source": [
    "reload(cvlib)\n",
    "reload(scanner)\n",
    "#\n",
    "image = cvlib.load_image('resources/barcode/barcode102.png')\n",
    "\n",
    "# Backup-3, working for most except(10,121)\n",
    "cropped = scanner.detect_barcode_v2(image=image,\n",
    "                                    gamma=1,\n",
    "                                    gaussian_ksize=(3, 3),\n",
    "                                    gaussian_sigma=1,\n",
    "                                    thresh_min=80,\n",
    "                                    iteration=20,\n",
    "                                    min_area_factor=0.2,\n",
    "                                    box=False)\n",
    "\n",
    "# display(image, cropped)\n",
    "plt.imshow(cropped, cmap='gray')\n",
    "# print(f'Decoded barcode : {scanner.decode_barcode(cropped)}')"
   ],
   "id": "174a27422a3c27a8",
   "outputs": [
    {
     "name": "stdout",
     "output_type": "stream",
     "text": [
      "Image               : image-size=5,648,120, [RXC]=[1,676 X 3,370]\n",
      "[1] --Binarize      : at min-thresh=80, black=96.00%, white=5.00%, thresh-cnt=0, limit-cnt=0\n",
      "[2] --Binarize      : at min-thresh=80, black=96.00%, white=5.00%, thresh-cnt=0, limit-cnt=0\n",
      "[3] --Binarize      : at min-thresh=96, black=96.00%, white=5.00%, thresh-cnt=0, limit-cnt=0\n",
      "[4] --Binarize      : at min-thresh=112, black=95.00%, white=6.00%, thresh-cnt=0, limit-cnt=0\n",
      "[5] --Binarize      : at min-thresh=128, black=95.00%, white=6.00%, thresh-cnt=0, limit-cnt=0\n",
      "[6] --Binarize      : at min-thresh=144, black=94.00%, white=7.00%, thresh-cnt=0, limit-cnt=0\n",
      "[7] --Binarize      : at min-thresh=160, black=94.00%, white=7.00%, thresh-cnt=0, limit-cnt=0\n",
      "[8] --Binarize      : at min-thresh=176, black=93.00%, white=8.00%, thresh-cnt=0, limit-cnt=0\n",
      "[9] --Binarize      : at min-thresh=192, black=93.00%, white=8.00%, thresh-cnt=0, limit-cnt=0\n",
      "[10] --Binarize      : at min-thresh=208, black=92.00%, white=9.00%, thresh-cnt=0, limit-cnt=0\n",
      "[11] --Binarize      : at min-thresh=224, black=92.00%, white=9.00%, thresh-cnt=0, limit-cnt=0\n",
      "[12] --Binarize      : at min-thresh=240, black=91.00%, white=10.00%, thresh-cnt=0, limit-cnt=0\n",
      "[13] --Binarize      : at min-thresh=256, black=0.00%, white=100.00%, thresh-cnt=1, limit-cnt=0\n",
      "[14] --Binarize      : at min-thresh=80, black=96.00%, white=5.00%, thresh-cnt=1, limit-cnt=1\n",
      "[15] --Binarize      : at min-thresh=288, black=0.00%, white=100.00%, thresh-cnt=2, limit-cnt=1\n",
      "[16] --Binarize      : at min-thresh=80, black=96.00%, white=5.00%, thresh-cnt=2, limit-cnt=2\n",
      "[17] --Binarize      : at min-thresh=320, black=0.00%, white=100.00%, thresh-cnt=3, limit-cnt=2\n",
      "[18] --Binarize(254): threshold exceeded 97% with min-threshold=80, [black=0.00%, white=100.00%], cnt=3, limit-cnt=2.\n"
     ]
    },
    {
     "data": {
      "text/plain": [
       "<matplotlib.image.AxesImage at 0x146b642b0>"
      ]
     },
     "execution_count": 53,
     "metadata": {},
     "output_type": "execute_result"
    },
    {
     "data": {
      "text/plain": [
       "<Figure size 640x480 with 1 Axes>"
      ],
      "image/png": "[encoded data removed]"
     },
     "metadata": {},
     "output_type": "display_data"
    }
   ],
   "execution_count": 53
  },
  {
   "metadata": {},
   "cell_type": "code",
   "source": [
    "image = cvlib.load_image('resources/barcode/barcode101.png')\n",
    "cropped = scanner.detect_barcode(image=image,\n",
    "                                 gamma=0.5,\n",
    "                                 gaussian_ksize=(15, 15),\n",
    "                                 gaussian_sigma=2,\n",
    "                                 avg_ksize1=(9, 9),\n",
    "                                 avg_ksize2=(3, 3),\n",
    "                                 thresh_min=200,\n",
    "                                 dilate_kernel=[21, 7],\n",
    "                                 dilate_iteration=4,\n",
    "                                 shrink_factor=6,\n",
    "                                 offset=0)\n",
    "display(image, cropped)\n",
    "print(f'Decoded barcode : {scanner.decode_barcode(cropped)}')"
   ],
   "id": "9c538bc17a991247",
   "outputs": [],
   "execution_count": null
  },
  {
   "metadata": {},
   "cell_type": "code",
   "source": [
    "image = cvlib.load_image('resources/barcode/barcode102.png')\n",
    "cropped = scanner.detect_barcode(image=image,\n",
    "                                 gamma=0.5,\n",
    "                                 gaussian_ksize=(15, 15),\n",
    "                                 gaussian_sigma=2,\n",
    "                                 avg_ksize1=(9, 9),\n",
    "                                 avg_ksize2=(3, 3),\n",
    "                                 thresh_min=200,\n",
    "                                 dilate_kernel=[21, 7],\n",
    "                                 dilate_iteration=4,\n",
    "                                 shrink_factor=6,\n",
    "                                 offset=0)\n",
    "display(image, cropped)\n",
    "print(f'Decoded barcode : {scanner.decode_barcode(cropped)}')"
   ],
   "id": "bba1b9b478d4f0b5",
   "outputs": [],
   "execution_count": null
  },
  {
   "metadata": {},
   "cell_type": "code",
   "source": [
    "image = cvlib.load_image('resources/barcode/barcode111.png')\n",
    "cropped = scanner.detect_barcode(image=image,\n",
    "                                 gamma=0.5,\n",
    "                                 gaussian_ksize=(15, 15),\n",
    "                                 gaussian_sigma=2,\n",
    "                                 avg_ksize1=(9, 9),\n",
    "                                 avg_ksize2=(3, 3),\n",
    "                                 thresh_min=200,\n",
    "                                 dilate_kernel=[21, 7],\n",
    "                                 dilate_iteration=4,\n",
    "                                 shrink_factor=6,\n",
    "                                 offset=0)\n",
    "display(image, cropped)\n",
    "print(f'Decoded barcode : {scanner.decode_barcode(cropped)}')"
   ],
   "id": "f6bbff6cb0df6fb4",
   "outputs": [],
   "execution_count": null
  },
  {
   "metadata": {},
   "cell_type": "code",
   "source": [
    "image = cvlib.load_image('resources/barcode/barcode113.png')\n",
    "cropped = scanner.detect_barcode(image=image,\n",
    "                                 gamma=0.5,\n",
    "                                 gaussian_ksize=(15, 15),\n",
    "                                 gaussian_sigma=2,\n",
    "                                 avg_ksize1=(9, 9),\n",
    "                                 avg_ksize2=(3, 3),\n",
    "                                 thresh_min=200,\n",
    "                                 dilate_kernel=[21, 7],\n",
    "                                 dilate_iteration=4,\n",
    "                                 shrink_factor=6,\n",
    "                                 offset=0)\n",
    "display(image, cropped)\n",
    "print(f'Decoded barcode : {scanner.decode_barcode(cropped)}')"
   ],
   "id": "3f30ce88b20a256d",
   "outputs": [],
   "execution_count": null
  },
  {
   "metadata": {},
   "cell_type": "code",
   "source": [
    "# SE = [51,7] was used since [21,7] did not work.\n",
    "image = cvlib.load_image('resources/barcode/barcode114.png')\n",
    "cropped = scanner.detect_barcode(image=image,\n",
    "                                 gamma=0.5,\n",
    "                                 gaussian_ksize=(15, 15),\n",
    "                                 gaussian_sigma=2,\n",
    "                                 avg_ksize1=(9, 9),\n",
    "                                 avg_ksize2=(3, 3),\n",
    "                                 thresh_min=200,\n",
    "                                 dilate_kernel=[51, 7],\n",
    "                                 dilate_iteration=4,\n",
    "                                 shrink_factor=6,\n",
    "                                 offset=0)\n",
    "display(image, cropped)\n",
    "barcode = scanner.decode_barcode(cropped)\n",
    "if barcode is not None:\n",
    "    print(f'Decoded barcode : {scanner.decode_barcode(cropped)}')\n",
    "else:\n",
    "    cnt = 0\n",
    "    for i in range(1, 50, 5):\n",
    "        ksize = (21 + i, 7)\n",
    "        print(f'Attempt [{cnt}] Increasing SE kernel {ksize} ...')\n",
    "        cropped = scanner.detect_barcode(image=image,\n",
    "                                         gamma=0.5,\n",
    "                                         gaussian_ksize=(15, 15),\n",
    "                                         gaussian_sigma=2,\n",
    "                                         avg_ksize1=(9, 9),\n",
    "                                         avg_ksize2=(3, 3),\n",
    "                                         thresh_min=200,\n",
    "                                         dilate_kernel=ksize,\n",
    "                                         dilate_iteration=4,\n",
    "                                         shrink_factor=6,\n",
    "                                         offset=0)\n",
    "        barcode = scanner.decode_barcode(cropped)\n",
    "        if barcode is not None:\n",
    "            print(f'Decoded barcode : {scanner.decode_barcode(cropped)}')\n",
    "            break"
   ],
   "id": "b5240bb996c0fa23",
   "outputs": [],
   "execution_count": null
  },
  {
   "metadata": {},
   "cell_type": "code",
   "source": [
    "image = cvlib.load_image('resources/barcode/barcode121.jpg')\n",
    "cropped = scanner.detect_barcode(image=image,\n",
    "                                 gamma=0.5,\n",
    "                                 gaussian_ksize=(15, 15),\n",
    "                                 gaussian_sigma=2,\n",
    "                                 avg_ksize1=(9, 9),\n",
    "                                 avg_ksize2=(3, 3),\n",
    "                                 thresh_min=200,\n",
    "                                 dilate_kernel=[21, 7],\n",
    "                                 dilate_iteration=4,\n",
    "                                 shrink_factor=6,\n",
    "                                 offset=0)\n",
    "display(image, cropped)\n",
    "print(f'Decoded barcode : {scanner.decode_barcode(cropped)}')"
   ],
   "id": "dc90e215d3f272ef",
   "outputs": [],
   "execution_count": null
  },
  {
   "metadata": {},
   "cell_type": "code",
   "source": [
    "image = cvlib.load_image('resources/barcode/barcode310.jpg')\n",
    "cropped = scanner.detect_barcode(image=image,\n",
    "                                 gamma=0.5,\n",
    "                                 gaussian_ksize=(15, 15),\n",
    "                                 gaussian_sigma=2,\n",
    "                                 avg_ksize1=(9, 9),\n",
    "                                 avg_ksize2=(3, 3),\n",
    "                                 thresh_min=200,\n",
    "                                 dilate_kernel=[21, 7],\n",
    "                                 dilate_iteration=4,\n",
    "                                 shrink_factor=6,\n",
    "                                 offset=0)\n",
    "display(image, cropped)\n",
    "print(f'Decoded barcode : {scanner.decode_barcode(cropped)}')"
   ],
   "id": "a56c82022230a6cf",
   "outputs": [],
   "execution_count": null
  },
  {
   "metadata": {},
   "cell_type": "code",
   "source": [
    "image = cvlib.load_image('resources/barcode/barcode320.jpg')\n",
    "cropped = scanner.detect_barcode(image=image,\n",
    "                                 gamma=0.5,\n",
    "                                 gaussian_ksize=(15, 15),\n",
    "                                 gaussian_sigma=2,\n",
    "                                 avg_ksize1=(9, 9),\n",
    "                                 avg_ksize2=(3, 3),\n",
    "                                 thresh_min=200,\n",
    "                                 dilate_kernel=[21, 7],\n",
    "                                 dilate_iteration=4,\n",
    "                                 shrink_factor=6,\n",
    "                                 offset=0)\n",
    "display(image, cropped)\n",
    "print(f'Decoded barcode : {scanner.decode_barcode(cropped)}')"
   ],
   "id": "d97a1fe6ae013dd7",
   "outputs": [],
   "execution_count": null
  },
  {
   "metadata": {},
   "cell_type": "code",
   "source": [
    "image = cvlib.load_image('resources/barcode/barcode330.jpg')\n",
    "cropped = scanner.detect_barcode(image=image,\n",
    "                                 gamma=0.5,\n",
    "                                 gaussian_ksize=(15, 15),\n",
    "                                 gaussian_sigma=2,\n",
    "                                 avg_ksize1=(9, 9),\n",
    "                                 avg_ksize2=(3, 3),\n",
    "                                 thresh_min=200,\n",
    "                                 dilate_kernel=[21, 7],\n",
    "                                 dilate_iteration=4,\n",
    "                                 shrink_factor=6,\n",
    "                                 offset=0)\n",
    "display(image, cropped)\n",
    "barcode = scanner.decode_barcode(cropped)\n",
    "if barcode is not None:\n",
    "    print(f'Decoded barcode : {scanner.decode_barcode(cropped)}')\n",
    "else:\n",
    "    cnt = 0\n",
    "    for i in range(1, 50, 5):\n",
    "        ksize = (21 + i, 7)\n",
    "        print(f'Attempt [{cnt}] Increasing SE kernel {ksize} ...')\n",
    "        cropped = scanner.detect_barcode(image=image,\n",
    "                                         gamma=0.5,\n",
    "                                         gaussian_ksize=(15, 15),\n",
    "                                         gaussian_sigma=2,\n",
    "                                         avg_ksize1=(9, 9),\n",
    "                                         avg_ksize2=(3, 3),\n",
    "                                         thresh_min=200,\n",
    "                                         dilate_kernel=(21, 7),\n",
    "                                         dilate_iteration=4,\n",
    "                                         shrink_factor=6,\n",
    "                                         offset=0)\n",
    "        barcode = scanner.decode_barcode(cropped)\n",
    "        if barcode is not None:\n",
    "            print(f'Decoded barcode : {scanner.decode_barcode(cropped)}')\n",
    "            break\n"
   ],
   "id": "4af56aef97d11fc",
   "outputs": [],
   "execution_count": null
  }
 ],
 "metadata": {
  "kernelspec": {
   "display_name": "Python 3",
   "language": "python",
   "name": "python3"
  },
  "language_info": {
   "codemirror_mode": {
    "name": "ipython",
    "version": 2
   },
   "file_extension": ".py",
   "mimetype": "text/x-python",
   "name": "python",
   "nbconvert_exporter": "python",
   "pygments_lexer": "ipython2",
   "version": "2.7.6"
  }
 },
 "nbformat": 4,
 "nbformat_minor": 5
}
