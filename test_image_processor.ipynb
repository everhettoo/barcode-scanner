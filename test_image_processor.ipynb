{
 "cells": [
  {
   "cell_type": "code",
   "id": "initial_id",
   "metadata": {
    "collapsed": true,
    "ExecuteTime": {
     "end_time": "2025-05-22T14:43:49.889804Z",
     "start_time": "2025-05-22T14:43:49.887259Z"
    }
   },
   "source": [
    "import image_processor\n",
    "from importlib import reload\n",
    "import cv2\n",
    "import matplotlib.pyplot as plt"
   ],
   "outputs": [],
   "execution_count": 16
  },
  {
   "metadata": {
    "ExecuteTime": {
     "end_time": "2025-05-22T14:44:08.230615Z",
     "start_time": "2025-05-22T14:44:08.219750Z"
    }
   },
   "cell_type": "code",
   "source": [
    "reload(image_processor)\n",
    "path = 'resources/barcode-001.jpg'\n",
    "\n",
    "\n",
    "img = image_processor.load_image(path)\n",
    "img.shape\n",
    "\n",
    "# Convert the image from BGR to RGB\n",
    "# image_rgb = cv2.cvtColor(image, cv2.COLOR_BGR2RGB)\n",
    "# plt.imshow(img)"
   ],
   "id": "a201a068621a066b",
   "outputs": [
    {
     "data": {
      "text/plain": [
       "(782, 1285, 3)"
      ]
     },
     "execution_count": 18,
     "metadata": {},
     "output_type": "execute_result"
    }
   ],
   "execution_count": 18
  },
  {
   "metadata": {},
   "cell_type": "code",
   "outputs": [],
   "execution_count": null,
   "source": [
    "code = image_processor.detect_barcode(image)\n",
    "plt.imshow(code, cmap='gray')"
   ],
   "id": "fdee531b8d749f2b"
  }
 ],
 "metadata": {
  "kernelspec": {
   "display_name": "Python 3",
   "language": "python",
   "name": "python3"
  },
  "language_info": {
   "codemirror_mode": {
    "name": "ipython",
    "version": 2
   },
   "file_extension": ".py",
   "mimetype": "text/x-python",
   "name": "python",
   "nbconvert_exporter": "python",
   "pygments_lexer": "ipython2",
   "version": "2.7.6"
  }
 },
 "nbformat": 4,
 "nbformat_minor": 5
}
